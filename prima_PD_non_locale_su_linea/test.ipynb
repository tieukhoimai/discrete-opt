{
 "cells": [
  {
   "cell_type": "code",
   "execution_count": 7,
   "metadata": {},
   "outputs": [],
   "source": [
    "def optimize(n,A,C):\n",
    "    assert n >= 0\n",
    "    assert n == len(A)\n",
    "    assert n == len(C)\n",
    "\n",
    "    num_feas_sols = 2\n",
    "    dp = [A[i] for i in range(n)]\n",
    "    idx = [[i] for i in range(n)]\n",
    "    feas_dp = [[1] for _ in range(n)]\n",
    "    optsols = [[1] for _ in range(n)]\n",
    "    \n",
    "    max_val = dp[0]\n",
    "    num_optsols = optsols[0][0]\n",
    "    optsol = idx[0]\n",
    "\n",
    "    for i in range(1, n):\n",
    "        for j in range(i):\n",
    "            if i - j > C[i] + C[j]:\n",
    "                feas_dp[i][0] = (feas_dp[i][0] + feas_dp[j][0]) % MOD\n",
    "                if dp[j] + A[i] > dp[i]:\n",
    "                    dp[i] = dp[j] + A[i]\n",
    "                    optsols[i][0] = optsols[j][0]\n",
    "                    idx[i] = idx[j] + [i]\n",
    "                elif dp[j] + A[i] == dp[i]:\n",
    "                    optsols[i][0] = (optsols[i][0] + optsols[j][0]) % MOD\n",
    "                    if idx[j] + [i] not in idx[i]:\n",
    "                        idx[i] = idx[j] + [i]\n",
    "        num_feas_sols = (num_feas_sols + feas_dp[i][0]) % MOD\n",
    "\n",
    "        if dp[i] > max_val:\n",
    "            max_val = dp[i]\n",
    "            optsol = idx[i]\n",
    "            num_optsols = optsols[i][0]\n",
    "        elif dp[i] == max_val:\n",
    "            num_optsols = (num_optsols + optsols[i][0]) % MOD\n",
    "\n",
    "    if max_val == 0:\n",
    "        num_optsols = 1\n",
    "\n",
    "    return num_feas_sols, max_val, optsol, num_optsols"
   ]
  },
  {
   "cell_type": "code",
   "execution_count": 51,
   "metadata": {},
   "outputs": [
    {
     "name": "stdout",
     "output_type": "stream",
     "text": [
      "Result for Test Case 1: (5, 5, [1], 1)\n",
      "Result for Test Case 2: (13, 9, [2, 5], 1)\n",
      "Result for Test Case 3: (11, 0, [0], 1)\n"
     ]
    }
   ],
   "source": [
    "# Test Cases\n",
    "n1 = 4\n",
    "A1 = [3, 5, 0, 1]\n",
    "C1 = [2, 2, 2, 2]\n",
    "print(f\"Result for Test Case 1: {optimize(n1, A1, C1)}\")  # Should be (5, 5, [1], 1)\n",
    "\n",
    "n2 = 6\n",
    "A2 = [1, 2, 3, 4, 5, 6]\n",
    "C2 = [1, 1, 1, 1, 1, 1]\n",
    "print(f\"Result for Test Case 2: {optimize(n2, A2, C2)}\")  # Should be (13, 9, [2, 5], 1)\n",
    "\n",
    "n3 = 6\n",
    "A3 = [0, 0, 0, 0, 0, 0]\n",
    "C3 = [2, 1, 2, 2, 1, 2]\n",
    "print(f\"Result for Test Case 3: {optimize(n3, A3, C3)}\")  # Should be (11, 0, [0], 11)"
   ]
  }
 ],
 "metadata": {
  "kernelspec": {
   "display_name": "Python 3",
   "language": "python",
   "name": "python3"
  },
  "language_info": {
   "codemirror_mode": {
    "name": "ipython",
    "version": 3
   },
   "file_extension": ".py",
   "mimetype": "text/x-python",
   "name": "python",
   "nbconvert_exporter": "python",
   "pygments_lexer": "ipython3",
   "version": "3.10.10"
  },
  "orig_nbformat": 4,
  "vscode": {
   "interpreter": {
    "hash": "16a64652be5a1c88b62588fad4819a392966dffd16021d7ee3cc203dd1df92df"
   }
  }
 },
 "nbformat": 4,
 "nbformat_minor": 2
}
