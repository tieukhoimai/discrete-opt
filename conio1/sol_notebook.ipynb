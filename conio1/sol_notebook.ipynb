{
 "cells": [
  {
   "cell_type": "code",
   "execution_count": 1,
   "metadata": {},
   "outputs": [],
   "source": [
    "# Reference: https://rosettacode.org/wiki/Find_minimum_number_of_coins_that_make_a_given_value#Python_::_Procedural\n",
    "\n",
    "# Modify:\n",
    "def makechange(total):\n",
    "    denominations = [1, 2, 5, 10, 20, 50, 100, 200, 500, 1000]\n",
    "    coins, remaining = sorted(denominations, reverse=True), total\n",
    "    pieces_used = [0] * len(denominations)\n",
    "\n",
    "    for i, coin in enumerate(coins):\n",
    "        coins_used = remaining // coin\n",
    "        pieces_used[i] = coins_used\n",
    "        remaining -= coins_used * coin\n",
    "\n",
    "    total_pieces = sum(pieces_used)\n",
    "\n",
    "    return total_pieces, reversed(pieces_used)"
   ]
  },
  {
   "cell_type": "code",
   "execution_count": 2,
   "metadata": {},
   "outputs": [
    {
     "name": "stdout",
     "output_type": "stream",
     "text": [
      "3464\n",
      "0 2 1 1 1 1 0 1 1 3456\n"
     ]
    }
   ],
   "source": [
    "total_pieces, pieces_used = makechange(3456789)\n",
    "\n",
    "print(str(total_pieces))\n",
    "print(' '.join(map(str, pieces_used)))"
   ]
  },
  {
   "cell_type": "code",
   "execution_count": 7,
   "metadata": {},
   "outputs": [
    {
     "name": "stdout",
     "output_type": "stream",
     "text": [
      "Minimum coins required is  3464\n"
     ]
    }
   ],
   "source": [
    "# Reference: https://www.geeksforgeeks.org/find-minimum-number-of-coins-that-make-a-change/\n",
    "\n",
    "# A Dynamic Programming based Python3 program to \n",
    "# find minimum of coins to make a given change V\n",
    "import sys \n",
    "\n",
    "# m is size of coins array (number of \n",
    "# different coins)\n",
    "def minCoins(coins, m, V):\n",
    "\t\n",
    "\t# table[i] will be storing the minimum \n",
    "\t# number of coins required for i value. \n",
    "\t# So table[V] will have result\n",
    "\ttable = [0 for i in range(V + 1)]\n",
    "\n",
    "\t# Base case (If given value V is 0)\n",
    "\ttable[0] = 0\n",
    "\n",
    "\t# Initialize all table values as Infinite\n",
    "\tfor i in range(1, V + 1):\n",
    "\t\ttable[i] = sys.maxsize\n",
    "\n",
    "\t# Compute minimum coins required \n",
    "\t# for all values from 1 to V\n",
    "\tfor i in range(1, V + 1):\n",
    "\t\t\n",
    "\t\t# Go through all coins smaller than i\n",
    "\t\tfor j in range(m):\n",
    "\t\t\tif (coins[j] <= i):\n",
    "\t\t\t\tsub_res = table[i - coins[j]]\n",
    "\t\t\t\tif (sub_res != sys.maxsize and\n",
    "\t\t\t\t\tsub_res + 1 < table[i]):\n",
    "\t\t\t\t\ttable[i] = sub_res + 1\n",
    "\t\n",
    "\tif table[V] == sys.maxsize:\n",
    "\t\treturn -1\n",
    "\t\n",
    "\treturn table[V]\n",
    "\n",
    "# Driver Code\n",
    "\n",
    "coins = [1, 2, 5, 10, 20, 50, 100, 200, 500, 1000]\n",
    "m = len(coins)\n",
    "V = 3456789\n",
    "print(\"Minimum coins required is \", \n",
    "\t\t\tminCoins(coins, m, V))\n"
   ]
  },
  {
   "cell_type": "code",
   "execution_count": 14,
   "metadata": {},
   "outputs": [
    {
     "data": {
      "text/plain": [
       "1456789"
      ]
     },
     "execution_count": 14,
     "metadata": {},
     "output_type": "execute_result"
    }
   ],
   "source": [
    "# Check the case 3456789\n",
    "\n",
    "a = [0,2,1,1,1,1,0,1,1,1456]\n",
    "b = [1, 2, 5, 10, 20, 50, 100, 200, 500, 1000]\n",
    "\n",
    "# calculate the total amount\n",
    "total = sum([a[i]*b[i] for i in range(len(a))])\n",
    "total"
   ]
  },
  {
   "cell_type": "code",
   "execution_count": 15,
   "metadata": {},
   "outputs": [
    {
     "data": {
      "text/plain": [
       "3456789"
      ]
     },
     "execution_count": 15,
     "metadata": {},
     "output_type": "execute_result"
    }
   ],
   "source": [
    "# Check the case 3456789\n",
    "\n",
    "a = 0,2,1,1,1,1,0,1,1,3456\n",
    "b = [1, 2, 5, 10, 20, 50, 100, 200, 500, 1000]\n",
    "\n",
    "# calculate the total amount\n",
    "total = sum([a[i]*b[i] for i in range(len(a))])\n",
    "total"
   ]
  },
  {
   "cell_type": "code",
   "execution_count": null,
   "metadata": {},
   "outputs": [],
   "source": []
  }
 ],
 "metadata": {
  "kernelspec": {
   "display_name": "Python 3",
   "language": "python",
   "name": "python3"
  },
  "language_info": {
   "codemirror_mode": {
    "name": "ipython",
    "version": 3
   },
   "file_extension": ".py",
   "mimetype": "text/x-python",
   "name": "python",
   "nbconvert_exporter": "python",
   "pygments_lexer": "ipython3",
   "version": "3.10.10"
  },
  "orig_nbformat": 4,
  "vscode": {
   "interpreter": {
    "hash": "16a64652be5a1c88b62588fad4819a392966dffd16021d7ee3cc203dd1df92df"
   }
  }
 },
 "nbformat": 4,
 "nbformat_minor": 2
}
