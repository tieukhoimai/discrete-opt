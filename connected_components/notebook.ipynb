{
 "cells": [
  {
   "cell_type": "code",
   "execution_count": 6,
   "metadata": {},
   "outputs": [],
   "source": [
    "# Reference: https://www.geeksforgeeks.org/connected-components-in-an-undirected-graph/\n",
    "\n",
    "class Graph:\n",
    "\n",
    "    # init function to declare class variables\n",
    "    def __init__(self, V):\n",
    "        self.V = V\n",
    "        self.adj = [[] for i in range(V)]\n",
    "\n",
    "    def DFSUtil(self, temp, v, visited):\n",
    "\n",
    "        # Mark the current vertex as visited\n",
    "        visited[v] = True\n",
    "\n",
    "        # Store the vertex to list\n",
    "        temp.append(v)\n",
    "\n",
    "        # Repeat for all vertices adjacent\n",
    "        # to this vertex v\n",
    "        for i in self.adj[v]:\n",
    "            if visited[i] == False:\n",
    "\n",
    "                # Update the list\n",
    "                temp = self.DFSUtil(temp, i, visited)\n",
    "        return temp\n",
    "\n",
    "    # method to add an undirected edge\n",
    "    def addEdge(self, v, w):\n",
    "        self.adj[v].append(w)\n",
    "        self.adj[w].append(v)\n",
    "\n",
    "    # Method to retrieve connected components\n",
    "    # in an undirected graph\n",
    "    def connectedComponents(self):\n",
    "        visited = []\n",
    "        cc = []\n",
    "        for i in range(self.V):\n",
    "            visited.append(False)\n",
    "        for v in range(self.V):\n",
    "            if visited[v] == False:\n",
    "                temp = []\n",
    "                cc.append(self.DFSUtil(temp, v, visited))\n",
    "        return cc\n"
   ]
  },
  {
   "cell_type": "code",
   "execution_count": 7,
   "metadata": {},
   "outputs": [],
   "source": [
    "# Read the input from input.txt\n",
    "with open('example.in.txt', 'r') as file:\n",
    "    lines = file.readlines()\n",
    "\n",
    "# Number of test cases\n",
    "T = int(lines[0])\n",
    "input_index = 1\n",
    "output_lines = []\n",
    "\n",
    "for _ in range(T):\n",
    "    # G = (V,E) = (n,m) (number of vertices, number of edges)\n",
    "    n, m = map(int, lines[input_index].split())\n",
    "    g = Graph(n)\n",
    "    input_index += 1\n",
    "\n",
    "    # Read the edges\n",
    "    for _ in range(m):\n",
    "        u, v = map(int, lines[input_index].split())\n",
    "        g.addEdge(u, v)\n",
    "        input_index += 1\n",
    "\n",
    "    # Find connected components\n",
    "    cc = g.connectedComponents()\n",
    "\n",
    "    # Output the result\n",
    "    output_lines.append(str(len(cc)))\n",
    "    for component in cc:\n",
    "        output_lines.append(' '.join(map(str, component)))\n"
   ]
  },
  {
   "cell_type": "code",
   "execution_count": 8,
   "metadata": {},
   "outputs": [
    {
     "data": {
      "text/plain": [
       "[[0, 1, 3, 2], [4, 6, 5]]"
      ]
     },
     "execution_count": 8,
     "metadata": {},
     "output_type": "execute_result"
    }
   ],
   "source": [
    "cc\n"
   ]
  },
  {
   "cell_type": "code",
   "execution_count": 27,
   "metadata": {},
   "outputs": [
    {
     "data": {
      "text/plain": [
       "['1', '0 1 3 4 2', '2', '0 1 3 2', '4 6 5']"
      ]
     },
     "execution_count": 27,
     "metadata": {},
     "output_type": "execute_result"
    }
   ],
   "source": [
    "output_lines\n"
   ]
  },
  {
   "cell_type": "code",
   "execution_count": 19,
   "metadata": {},
   "outputs": [
    {
     "name": "stdout",
     "output_type": "stream",
     "text": [
      "[[0, 1, 2], [3, 4]]\n"
     ]
    }
   ],
   "source": [
    "class ConnectedComponents:\n",
    "    # function to merge two components\n",
    "    def merge(self, parent, x):\n",
    "        if parent[x] == x:\n",
    "            return x\n",
    "        return self.merge(parent, parent[x])\n",
    "\n",
    "    # function to find connected components\n",
    "    def connectedComponents(self, n, edges):\n",
    "        # list to store parents of each node\n",
    "        parent = [i for i in range(n)]\n",
    "\n",
    "        # loop to set parent of each node\n",
    "        for x in edges:\n",
    "            parent[self.merge(parent, x[0])] = self.merge(parent, x[1])\n",
    "\n",
    "        # count to store number of connected components\n",
    "        ans = 0\n",
    "        # loop to count number of connected components\n",
    "        for i in range(n):\n",
    "            if parent[i] == i:\n",
    "                ans += 1\n",
    "\n",
    "        # loop to merge all components\n",
    "        for i in range(n):\n",
    "            parent[i] = self.merge(parent, parent[i])\n",
    "\n",
    "        # list to store connected components\n",
    "        components = []\n",
    "        # loop to append connected components to the list\n",
    "        for i in range(n):\n",
    "            if i == parent[i]:\n",
    "                component = []\n",
    "                for j in range(n):\n",
    "                    if parent[j] == i:\n",
    "                        component.append(j)\n",
    "                components.append(component)\n",
    "\n",
    "        return components\n",
    "\n",
    "\n",
    "# driver code\n",
    "if __name__ == \"__main__\":\n",
    "    n = 5\n",
    "    edges = [[0, 1], [2, 1], [3, 4]]\n",
    "\n",
    "    # print connected components\n",
    "    ans = ConnectedComponents().connectedComponents(n, edges)\n"
   ]
  },
  {
   "cell_type": "code",
   "execution_count": null,
   "metadata": {},
   "outputs": [],
   "source": [
    "# Read the input from input.txt\n",
    "with open('example.in.txt', 'r') as file:\n",
    "    lines = file.readlines()\n",
    "\n",
    "# Number of test cases\n",
    "T = int(lines[0])\n",
    "input_index = 1\n",
    "output_lines = []\n",
    "\n",
    "for _ in range(T):\n",
    "    # G = (V,E) = (n,m) (number of vertices, number of edges)\n",
    "    n, m = map(int, lines[input_index].split())\n",
    "    g = Graph(n)\n",
    "    input_index += 1\n",
    "\n",
    "    # Read the edges\n",
    "    for _ in range(m):\n",
    "        u, v = map(int, lines[input_index].split())\n",
    "        g.addEdge(u, v)\n",
    "        input_index += 1\n",
    "\n",
    "    # Find connected components\n",
    "    cc = g.connectedComponents()\n",
    "\n",
    "    # Output the result\n",
    "    output_lines.append(str(len(cc)))\n",
    "    for component in cc:\n",
    "        output_lines.append(' '.join(map(str, component)))\n"
   ]
  },
  {
   "cell_type": "code",
   "execution_count": 50,
   "metadata": {},
   "outputs": [
    {
     "name": "stdout",
     "output_type": "stream",
     "text": [
      "0 1\n",
      "2 4\n",
      "3 4\n",
      "2 3\n",
      "0 2\n",
      "1 3\n",
      "0 1\n",
      "4 6\n",
      "2 3\n",
      "0 2\n",
      "4 5\n",
      "5 6\n",
      "1 3\n",
      "[[0, 1, 2, 3], [4, 5, 6]]\n"
     ]
    }
   ],
   "source": [
    "# Read the input from input.txt\n",
    "with open('example.in.txt', 'r') as file:\n",
    "    lines = file.readlines()\n",
    "\n",
    "# Number of test cases\n",
    "T = int(lines[0])\n",
    "input_index = 1\n",
    "output_lines = []\n",
    "\n",
    "for _ in range(T):\n",
    "    n, m = map(int, lines[input_index].split())\n",
    "    nei = []\n",
    "    input_index += 1\n",
    "    for _ in range(m):\n",
    "        a, b = map(int, lines[input_index].split())\n",
    "        print(a, b)\n",
    "        nei.append([a, b])\n",
    "        input_index += 1\n",
    "\n",
    "CC = ConnectedComponents().connectedComponents(n, nei)\n",
    "print(CC)"
   ]
  },
  {
   "cell_type": "code",
   "execution_count": 48,
   "metadata": {},
   "outputs": [
    {
     "data": {
      "text/plain": [
       "[[0, 1], [4, 6], [2, 3], [0, 2], [4, 5], [5, 6], [1, 3]]"
      ]
     },
     "execution_count": 48,
     "metadata": {},
     "output_type": "execute_result"
    }
   ],
   "source": [
    "nei"
   ]
  },
  {
   "cell_type": "code",
   "execution_count": 39,
   "metadata": {},
   "outputs": [
    {
     "data": {
      "text/plain": [
       "[[], [], [], [], [], [], []]"
      ]
     },
     "execution_count": 39,
     "metadata": {},
     "output_type": "execute_result"
    }
   ],
   "source": [
    "nei = [[] for _ in range(n)]\n",
    "nei"
   ]
  }
 ],
 "metadata": {
  "kernelspec": {
   "display_name": "Python 3",
   "language": "python",
   "name": "python3"
  },
  "language_info": {
   "codemirror_mode": {
    "name": "ipython",
    "version": 3
   },
   "file_extension": ".py",
   "mimetype": "text/x-python",
   "name": "python",
   "nbconvert_exporter": "python",
   "pygments_lexer": "ipython3",
   "version": "3.10.10"
  },
  "orig_nbformat": 4,
  "vscode": {
   "interpreter": {
    "hash": "16a64652be5a1c88b62588fad4819a392966dffd16021d7ee3cc203dd1df92df"
   }
  }
 },
 "nbformat": 4,
 "nbformat_minor": 2
}
