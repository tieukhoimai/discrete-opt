{
 "cells": [
  {
   "cell_type": "code",
   "execution_count": 23,
   "metadata": {},
   "outputs": [],
   "source": [
    "# Reference: https://www.geeksforgeeks.org/connected-components-in-an-undirected-graph/\n",
    "\n",
    "class Graph:\n",
    "\n",
    "\t# init function to declare class variables\n",
    "\tdef __init__(self, V):\n",
    "\t\tself.V = V\n",
    "\t\tself.adj = [[] for i in range(V)]\n",
    "\n",
    "\tdef DFSUtil(self, temp, v, visited):\n",
    "\n",
    "\t\t# Mark the current vertex as visited\n",
    "\t\tvisited[v] = True\n",
    "\n",
    "\t\t# Store the vertex to list\n",
    "\t\ttemp.append(v)\n",
    "\n",
    "\t\t# Repeat for all vertices adjacent\n",
    "\t\t# to this vertex v\n",
    "\t\tfor i in self.adj[v]:\n",
    "\t\t\tif visited[i] == False:\n",
    "\n",
    "\t\t\t\t# Update the list\n",
    "\t\t\t\ttemp = self.DFSUtil(temp, i, visited)\n",
    "\t\treturn temp\n",
    "\n",
    "\t# method to add an undirected edge\n",
    "\tdef addEdge(self, v, w):\n",
    "\t\tself.adj[v].append(w)\n",
    "\t\tself.adj[w].append(v)\n",
    "\n",
    "\t# Method to retrieve connected components\n",
    "\t# in an undirected graph\n",
    "\tdef connectedComponents(self):\n",
    "\t\tvisited = []\n",
    "\t\tcc = []\n",
    "\t\tfor i in range(self.V):\n",
    "\t\t\tvisited.append(False)\n",
    "\t\tfor v in range(self.V):\n",
    "\t\t\tif visited[v] == False:\n",
    "\t\t\t\ttemp = []\n",
    "\t\t\t\tcc.append(self.DFSUtil(temp, v, visited))\n",
    "\t\treturn cc\n"
   ]
  },
  {
   "cell_type": "code",
   "execution_count": 24,
   "metadata": {},
   "outputs": [],
   "source": [
    "# Read the input from input.txt\n",
    "with open('example.in.txt', 'r') as file:\n",
    "    lines = file.readlines()\n",
    "\n",
    "# Number of test cases\n",
    "T = int(lines[0])\n",
    "input_index = 1\n",
    "output_lines = []\n",
    "\n",
    "for _ in range(T):\n",
    "    # G = (V,E) = (n,m) (number of vertices, number of edges)\n",
    "    n, m = map(int, lines[input_index].split())\n",
    "    g = Graph(n)\n",
    "    input_index += 1\n",
    "    \n",
    "    # Read the edges\n",
    "    for _ in range(m):\n",
    "        u, v = map(int, lines[input_index].split())\n",
    "        g.addEdge(u, v)\n",
    "        input_index += 1\n",
    "    \n",
    "    # Find connected components\n",
    "    cc = g.connectedComponents()\n",
    "    \n",
    "    # Output the result\n",
    "    output_lines.append(str(len(cc)))\n",
    "    for component in cc:\n",
    "        output_lines.append(' '.join(map(str, component)))\n",
    "    "
   ]
  },
  {
   "cell_type": "code",
   "execution_count": 27,
   "metadata": {},
   "outputs": [
    {
     "data": {
      "text/plain": [
       "['1', '0 1 3 4 2', '2', '0 1 3 2', '4 6 5']"
      ]
     },
     "execution_count": 27,
     "metadata": {},
     "output_type": "execute_result"
    }
   ],
   "source": [
    "output_lines"
   ]
  },
  {
   "cell_type": "code",
   "execution_count": null,
   "metadata": {},
   "outputs": [],
   "source": []
  }
 ],
 "metadata": {
  "kernelspec": {
   "display_name": "Python 3",
   "language": "python",
   "name": "python3"
  },
  "language_info": {
   "codemirror_mode": {
    "name": "ipython",
    "version": 3
   },
   "file_extension": ".py",
   "mimetype": "text/x-python",
   "name": "python",
   "nbconvert_exporter": "python",
   "pygments_lexer": "ipython3",
   "version": "3.10.10"
  },
  "orig_nbformat": 4,
  "vscode": {
   "interpreter": {
    "hash": "16a64652be5a1c88b62588fad4819a392966dffd16021d7ee3cc203dd1df92df"
   }
  }
 },
 "nbformat": 4,
 "nbformat_minor": 2
}
