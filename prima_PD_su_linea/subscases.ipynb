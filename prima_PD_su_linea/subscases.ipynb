{
 "cells": [
  {
   "cell_type": "markdown",
   "metadata": {},
   "source": [
    "# Finding the subcases for the prima_PD_su_linea problem"
   ]
  },
  {
   "cell_type": "markdown",
   "metadata": {},
   "source": [
    "Even in this case, the algorithm is not working :("
   ]
  },
  {
   "cell_type": "code",
   "execution_count": null,
   "metadata": {},
   "outputs": [],
   "source": [
    "def finding_subcases(lista, n):\n",
    "\n",
    "    subcases = []                                               \n",
    "    indici_lista = list(range(0, len(lista)))\n",
    "\n",
    "    for idx_1 in range(0, len(lista)):\n",
    "        numero_elementi = []                         \n",
    "        for idx_2 in range(idx_1, indici_lista[-1], 3):\n",
    "            numero_elementi.append(idx_2)\n",
    "            if indici_lista[-1] - idx_2 <= 2:\n",
    "                for idx_3 in range(idx_2 + 1, indici_lista[-1] + 1):\n",
    "                    numero_elementi.append(idx_3)\n",
    "        if len(numero_elementi) >= 3:\n",
    "            subcases.append(numero_elementi)\n",
    "\n",
    "    return subcases\n",
    "                  \n"
   ]
  },
  {
   "cell_type": "code",
   "execution_count": 4,
   "metadata": {},
   "outputs": [
    {
     "name": "stdout",
     "output_type": "stream",
     "text": [
      "[0, 1, 2]\n"
     ]
    },
    {
     "data": {
      "text/plain": [
       "2"
      ]
     },
     "execution_count": 4,
     "metadata": {},
     "output_type": "execute_result"
    }
   ],
   "source": [
    "lista = [0, 3, 34]\n",
    "lunghezza_lista = list(range(0, len(lista)))\n",
    "print(lunghezza_lista)\n",
    "lunghezza_lista[-1]"
   ]
  },
  {
   "cell_type": "code",
   "execution_count": null,
   "metadata": {},
   "outputs": [],
   "source": []
  }
 ],
 "metadata": {
  "kernelspec": {
   "display_name": "Python 3",
   "language": "python",
   "name": "python3"
  },
  "language_info": {
   "codemirror_mode": {
    "name": "ipython",
    "version": 3
   },
   "file_extension": ".py",
   "mimetype": "text/x-python",
   "name": "python",
   "nbconvert_exporter": "python",
   "pygments_lexer": "ipython3",
   "version": "3.11.0"
  }
 },
 "nbformat": 4,
 "nbformat_minor": 2
}
