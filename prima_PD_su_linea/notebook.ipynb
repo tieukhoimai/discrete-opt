{
 "cells": [
  {
   "cell_type": "code",
   "execution_count": 126,
   "metadata": {},
   "outputs": [],
   "source": [
    "def max_subset(nums):\n",
    "    n = len(nums)\n",
    "    if n == 1:\n",
    "        return nums[0]\n",
    "    if n == 2:\n",
    "        return max(nums)\n",
    "    \n",
    "    def helper(start, end):\n",
    "        prev_max = nums[start]\n",
    "        curr_max = max(nums[start], nums[start + 1])\n",
    "        selected_indices = [start] if nums[start] > nums[start + 1] else [start + 1]\n",
    "        for i in range(start + 3, end):\n",
    "            new_max = max(curr_max, prev_max + nums[i])\n",
    "            if new_max == prev_max + nums[i]:\n",
    "                selected_indices.append(i)\n",
    "            prev_max, curr_max = curr_max, new_max\n",
    "        return curr_max, selected_indices\n",
    "    \n",
    "    max_first_half, indices_first_half = helper(0, n - 1)\n",
    "    max_second_half, indices_second_half = helper(1, n)\n",
    "    \n",
    "    if max_first_half >= max_second_half:\n",
    "        return max_first_half, indices_first_half\n",
    "    else:\n",
    "        # Adjust indices for the second half by shifting by one position\n",
    "        indices_second_half = [idx + 1 for idx in indices_second_half]\n",
    "        return max_second_half, indices_second_half"
   ]
  },
  {
   "cell_type": "code",
   "execution_count": 127,
   "metadata": {},
   "outputs": [
    {
     "name": "stdout",
     "output_type": "stream",
     "text": [
      "Output: 9\n",
      "Indices: [3, 5, 6]\n"
     ]
    }
   ],
   "source": [
    "nums = [1,2,3,4,5,6]\n",
    "result, indices = max_subset(nums)\n",
    "print(\"Output:\", result)\n",
    "print(\"Indices:\", indices)"
   ]
  },
  {
   "cell_type": "code",
   "execution_count": 128,
   "metadata": {},
   "outputs": [
    {
     "name": "stdout",
     "output_type": "stream",
     "text": [
      "Output: 5\n",
      "Indices: [1]\n"
     ]
    }
   ],
   "source": [
    "nums = [3,5,0]\n",
    "result, indices = max_subset(nums)\n",
    "print(\"Output:\", result)\n",
    "print(\"Indices:\", indices)"
   ]
  },
  {
   "cell_type": "code",
   "execution_count": 3,
   "metadata": {},
   "outputs": [],
   "source": []
  },
  {
   "cell_type": "code",
   "execution_count": null,
   "metadata": {},
   "outputs": [],
   "source": []
  }
 ],
 "metadata": {
  "kernelspec": {
   "display_name": "Python 3",
   "language": "python",
   "name": "python3"
  },
  "language_info": {
   "codemirror_mode": {
    "name": "ipython",
    "version": 3
   },
   "file_extension": ".py",
   "mimetype": "text/x-python",
   "name": "python",
   "nbconvert_exporter": "python",
   "pygments_lexer": "ipython3",
   "version": "3.11.0"
  },
  "orig_nbformat": 4,
  "vscode": {
   "interpreter": {
    "hash": "16a64652be5a1c88b62588fad4819a392966dffd16021d7ee3cc203dd1df92df"
   }
  }
 },
 "nbformat": 4,
 "nbformat_minor": 2
}
