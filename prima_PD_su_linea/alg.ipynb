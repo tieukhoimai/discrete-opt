{
 "cells": [
  {
   "cell_type": "code",
   "execution_count": 55,
   "metadata": {},
   "outputs": [],
   "source": [
    "def solve(n, arr):\n",
    "    dp = [-1 for _ in range(n)]\n",
    "    idx = [[] for _ in range(n)]\n",
    "\n",
    "    # Initialize the first element of the DP table with the first element of the array\n",
    "    dp[0] = arr[0]\n",
    "    idx[0] = [0]\n",
    "\n",
    "    # Loop through the array starting from the second element\n",
    "    for i in range(1, n):\n",
    "        # Calculate the maximum value when picking the current element\n",
    "        pick = arr[i]\n",
    "\n",
    "        # Check if there are at least three elements before the current element\n",
    "        if i > 2:\n",
    "            pick += dp[i - 3]\n",
    "        \n",
    "        # Calculate the maximum value when not picking the current element\n",
    "        non_pick = dp[i - 1]\n",
    "        \n",
    "        # Store the maximum of the two choices in the DP table\n",
    "        dp[i] = max(pick, non_pick)\n",
    "\n",
    "        if pick > non_pick:\n",
    "            idx[i].append(i)\n",
    "            if i > 2:\n",
    "                idx[i].extend(idx[i - 3])\n",
    "        else:\n",
    "            idx[i].extend(idx[i - 1])\n",
    "\n",
    "    # Return the maximum value for the last index\n",
    "    return dp[n - 1], idx[n - 1]"
   ]
  },
  {
   "cell_type": "code",
   "execution_count": 56,
   "metadata": {},
   "outputs": [
    {
     "data": {
      "text/plain": [
       "(5, [2])"
      ]
     },
     "execution_count": 56,
     "metadata": {},
     "output_type": "execute_result"
    }
   ],
   "source": [
    "arr = [0,3,5,1]\n",
    "n = len(arr)\n",
    "\n",
    "solve(n, arr)"
   ]
  },
  {
   "cell_type": "code",
   "execution_count": 57,
   "metadata": {},
   "outputs": [
    {
     "data": {
      "text/plain": [
       "(9, [5, 2])"
      ]
     },
     "execution_count": 57,
     "metadata": {},
     "output_type": "execute_result"
    }
   ],
   "source": [
    "arr = [1,2,3,4,5,6]\n",
    "n = len(arr)\n",
    "\n",
    "solve(n, arr)"
   ]
  },
  {
   "cell_type": "code",
   "execution_count": 58,
   "metadata": {},
   "outputs": [
    {
     "data": {
      "text/plain": [
       "(0, [0])"
      ]
     },
     "execution_count": 58,
     "metadata": {},
     "output_type": "execute_result"
    }
   ],
   "source": [
    "arr = [0,0,0,0,0,0]\n",
    "n = len(arr)\n",
    "\n",
    "solve(n, arr)"
   ]
  },
  {
   "cell_type": "code",
   "execution_count": null,
   "metadata": {},
   "outputs": [],
   "source": []
  }
 ],
 "metadata": {
  "kernelspec": {
   "display_name": "Python 3",
   "language": "python",
   "name": "python3"
  },
  "language_info": {
   "codemirror_mode": {
    "name": "ipython",
    "version": 3
   },
   "file_extension": ".py",
   "mimetype": "text/x-python",
   "name": "python",
   "nbconvert_exporter": "python",
   "pygments_lexer": "ipython3",
   "version": "3.10.10"
  },
  "orig_nbformat": 4,
  "vscode": {
   "interpreter": {
    "hash": "16a64652be5a1c88b62588fad4819a392966dffd16021d7ee3cc203dd1df92df"
   }
  }
 },
 "nbformat": 4,
 "nbformat_minor": 2
}
