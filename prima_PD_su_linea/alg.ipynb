{
 "cells": [
  {
   "cell_type": "code",
   "execution_count": 151,
   "metadata": {},
   "outputs": [],
   "source": [
    "def solve(n, arr):\n",
    "    dp = [-1 for _ in range(n)]\n",
    "    idx = [[] for _ in range(n)]\n",
    "\n",
    "    dp[0] = arr[0]\n",
    "    idx[0] = [0]\n",
    "    number_of_feasible_solutions = 1 + n\n",
    "\n",
    "    for i in range(1, n):\n",
    "        pick = arr[i]\n",
    "\n",
    "        # Check if there are at least three elements before the current element\n",
    "        if i > 2:\n",
    "            pick += dp[i - 3]\n",
    "            number_of_feasible_solutions += (i - 2)\n",
    "\n",
    "        non_pick = dp[i - 1]\n",
    "        \n",
    "        # Store the maximum of the two choices in the DP table\n",
    "        dp[i] = max(pick, non_pick)\n",
    "\n",
    "        if pick > non_pick:\n",
    "            idx[i].append(i)\n",
    "            if i > 2:\n",
    "                idx[i].extend(idx[i - 3])\n",
    "        else:\n",
    "            idx[i].extend(idx[i - 1])\n",
    "\n",
    "    optimal_indices = [i for i, x in enumerate(dp) if x == dp[n-1]]\n",
    "    optimal_subset = [idx[i] for i in optimal_indices]\n",
    "    optimal_solution = unique_count = len(set([tuple(sublist) for sublist in optimal_subset]))\n",
    "\n",
    "    return number_of_feasible_solutions, dp[n - 1], idx[n - 1], optimal_solution"
   ]
  },
  {
   "cell_type": "code",
   "execution_count": 93,
   "metadata": {},
   "outputs": [
    {
     "data": {
      "text/plain": [
       "0"
      ]
     },
     "execution_count": 93,
     "metadata": {},
     "output_type": "execute_result"
    }
   ],
   "source": [
    "# i = 3 -> 0 -> +1\n",
    "# i = 4 -> 0,1 -> +2\n",
    "# i = 5 -> 0,1,2 -> +3\n",
    "# i = 6 -> 0,1,2,3 -> +4"
   ]
  },
  {
   "cell_type": "code",
   "execution_count": 152,
   "metadata": {},
   "outputs": [
    {
     "data": {
      "text/plain": [
       "(6, 5, [2], 1)"
      ]
     },
     "execution_count": 152,
     "metadata": {},
     "output_type": "execute_result"
    }
   ],
   "source": [
    "arr = [0,3,5,1]\n",
    "n = len(arr)\n",
    "\n",
    "solve(n, arr)"
   ]
  },
  {
   "cell_type": "code",
   "execution_count": 155,
   "metadata": {},
   "outputs": [
    {
     "data": {
      "text/plain": [
       "(13, 9, [5, 2], 1)"
      ]
     },
     "execution_count": 155,
     "metadata": {},
     "output_type": "execute_result"
    }
   ],
   "source": [
    "arr = [1,2,3,4,5,6]\n",
    "n = len(arr)\n",
    "\n",
    "solve(n, arr)"
   ]
  },
  {
   "cell_type": "code",
   "execution_count": 162,
   "metadata": {},
   "outputs": [],
   "source": [
    "input_file_name = 'example.in.txt'\n",
    "\n",
    "\n",
    "output_file_name = input_file_name.replace(\".txt\", \"_output.txt\")\n",
    "\n",
    "# Read the input from input_file_name\n",
    "with open(input_file_name, 'r') as file:\n",
    "    lines = file.readlines()\n",
    "\n",
    "# Number of test cases\n",
    "T = int(lines[0])\n",
    "\n",
    "input_index = 1\n",
    "output_lines = []\n",
    "\n",
    "for _ in range(T):\n",
    "    # Read the input for each test case\n",
    "    # n: number of elements in the array\n",
    "    n = int(lines[input_index])\n",
    "\n",
    "    # arr: array of n integers\n",
    "    input_index += 1\n",
    "    arr = list(map(int, lines[input_index].split()))\n",
    "\n",
    "    # Solve the problem\n",
    "    number_of_feasible_solutions, max_sum, optimal_indices, optimal_solution = solve(n, arr)\n",
    "\n",
    "    # Prepare the output in the specified format\n",
    "    output_lines.append(str(number_of_feasible_solutions))\n",
    "    output_lines.append(str(max_sum))\n",
    "    output_lines.append(' '.join(map(str, optimal_indices)))\n",
    "    output_lines.append(str(optimal_solution))\n",
    "\n",
    "    input_index += 1"
   ]
  },
  {
   "cell_type": "code",
   "execution_count": 163,
   "metadata": {},
   "outputs": [
    {
     "data": {
      "text/plain": [
       "['6', '5', '1', '1', '13', '0', '0', '1', '13', '9', '5 2', '1']"
      ]
     },
     "execution_count": 163,
     "metadata": {},
     "output_type": "execute_result"
    }
   ],
   "source": [
    "output_lines"
   ]
  },
  {
   "cell_type": "code",
   "execution_count": null,
   "metadata": {},
   "outputs": [],
   "source": []
  }
 ],
 "metadata": {
  "kernelspec": {
   "display_name": "Python 3",
   "language": "python",
   "name": "python3"
  },
  "language_info": {
   "codemirror_mode": {
    "name": "ipython",
    "version": 3
   },
   "file_extension": ".py",
   "mimetype": "text/x-python",
   "name": "python",
   "nbconvert_exporter": "python",
   "pygments_lexer": "ipython3",
   "version": "3.10.10"
  },
  "orig_nbformat": 4,
  "vscode": {
   "interpreter": {
    "hash": "16a64652be5a1c88b62588fad4819a392966dffd16021d7ee3cc203dd1df92df"
   }
  }
 },
 "nbformat": 4,
 "nbformat_minor": 2
}
