{
 "cells": [
  {
   "cell_type": "code",
   "execution_count": 2,
   "metadata": {},
   "outputs": [
    {
     "name": "stdout",
     "output_type": "stream",
     "text": [
      "Number of feasible solutions with 5 positive numbers: 14\n"
     ]
    }
   ],
   "source": [
    "def is_feasible(arrangement):\n",
    "    for i in range(len(arrangement) - 1):\n",
    "        if abs(arrangement[i] - arrangement[i+1]) == 1:\n",
    "            return False\n",
    "    return True\n",
    "\n",
    "def count_feasible_solutions(arr):\n",
    "    feasible_count = 0\n",
    "    from itertools import permutations\n",
    "    for perm in permutations(arr):\n",
    "        if is_feasible(perm):\n",
    "            feasible_count += 1\n",
    "    return feasible_count\n",
    "\n",
    "# Array containing 5 positive numbers\n",
    "arr = [1, 2, 3, 4, 5]\n",
    "\n",
    "# Count feasible solutions\n",
    "feasible_solutions = count_feasible_solutions(arr)\n",
    "print(\"Number of feasible solutions with 5 positive numbers:\", feasible_solutions)"
   ]
  },
  {
   "cell_type": "code",
   "execution_count": 23,
   "metadata": {},
   "outputs": [],
   "source": [
    "def count_feasible_solutions(arr, n):\n",
    "\n",
    "    feasible_solutions = 0\n",
    "\n",
    "    if n == 0:\n",
    "        return feasible_solutions\n",
    "    \n",
    "    elif n == 1 or n == 2 or n == 3:\n",
    "        feasible_solutions += 1\n",
    "        return feasible_solutions\n",
    "    \n",
    "    else:\n",
    "        # n = 4 --> 6 feasible solutions\n",
    "        # n = 6 --> 13 feasible solutions\n",
    "        for idx_1, object in enumerate(arr):\n",
    "                for idx_2 in range(idx_1, len(arr), 3):\n",
    "                    feasible_solutions += 1\n",
    "                    idx_2 += 3\n",
    "                    if idx_2 <= len(arr):\n",
    "                        feasible_solutions += 1\n",
    "            \n",
    "        return feasible_solutions"
   ]
  },
  {
   "cell_type": "code",
   "execution_count": 27,
   "metadata": {},
   "outputs": [
    {
     "name": "stdout",
     "output_type": "stream",
     "text": [
      "7\n"
     ]
    }
   ],
   "source": [
    "print(count_feasible_solutions([1, 2, 3, 4], 4))"
   ]
  },
  {
   "cell_type": "code",
   "execution_count": null,
   "metadata": {},
   "outputs": [],
   "source": []
  }
 ],
 "metadata": {
  "kernelspec": {
   "display_name": "Python 3",
   "language": "python",
   "name": "python3"
  },
  "language_info": {
   "codemirror_mode": {
    "name": "ipython",
    "version": 3
   },
   "file_extension": ".py",
   "mimetype": "text/x-python",
   "name": "python",
   "nbconvert_exporter": "python",
   "pygments_lexer": "ipython3",
   "version": "3.11.0"
  }
 },
 "nbformat": 4,
 "nbformat_minor": 2
}
