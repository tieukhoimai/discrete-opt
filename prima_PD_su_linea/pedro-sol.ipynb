{
 "cells": [
  {
   "cell_type": "code",
   "execution_count": 12,
   "metadata": {},
   "outputs": [
    {
     "name": "stdout",
     "output_type": "stream",
     "text": [
      "6\n"
     ]
    }
   ],
   "source": [
    "def count_feasible_solutions(arr, n):\n",
    "    feasible_solutions = 0\n",
    "\n",
    "    if n == 0:\n",
    "         pass\n",
    "    \n",
    "    elif n == 1 or n == 2 or n == 3:\n",
    "        feasible_solutions += 1   \n",
    "\n",
    "    else:\n",
    "        # n = 4 --> 6 feasible solutions\n",
    "        # n = 6 --> 13 feasible solutions\n",
    "        for idx_1 in range(0, len(arr)):\n",
    "            for idx_2 in range(idx_1, len(arr), 3):\n",
    "                if len(arr) % 2 == 0:\n",
    "                    feasible_solutions += 1\n",
    "                    idx_2 += 3\n",
    "                    if idx_2 < len(arr):\n",
    "                        feasible_solutions += 1\n",
    "                else:\n",
    "                    feasible_solutions += 1\n",
    "                    idx_2 += 3\n",
    "                    if idx_2 <= len(arr):\n",
    "                        feasible_solutions += 1\n",
    "            \n",
    "    return feasible_solutions\n",
    "    \n",
    "print(count_feasible_solutions([1, 2, 3, 5], 5))"
   ]
  },
  {
   "cell_type": "markdown",
   "metadata": {},
   "source": [
    "Original algorithm"
   ]
  },
  {
   "cell_type": "code",
   "execution_count": 9,
   "metadata": {},
   "outputs": [
    {
     "name": "stdout",
     "output_type": "stream",
     "text": [
      "6\n"
     ]
    }
   ],
   "source": [
    "def count_feasible_solutions_2(arr, n):\n",
    "    feasible_solutions = 0\n",
    "\n",
    "    if n == 0:\n",
    "         pass\n",
    "    \n",
    "    elif n == 1 or n == 2 or n == 3:\n",
    "        feasible_solutions += 1   \n",
    "\n",
    "    else:\n",
    "        # n = 4 --> 6 feasible solutions\n",
    "        # n = 6 --> 13 feasible solutions\n",
    "        for idx_1 in range(0, len(arr)):\n",
    "            for idx_2 in range(idx_1, len(arr), 3):\n",
    "                feasible_solutions += 1\n",
    "                idx_2 += 3\n",
    "                if idx_2 <= len(arr):\n",
    "                    feasible_solutions += 1\n",
    "                \n",
    "            \n",
    "    return feasible_solutions\n",
    "\n",
    "print(count_feasible_solutions([1, 2, 3, 4], 4))"
   ]
  },
  {
   "cell_type": "code",
   "execution_count": null,
   "metadata": {},
   "outputs": [],
   "source": []
  },
  {
   "cell_type": "code",
   "execution_count": null,
   "metadata": {},
   "outputs": [],
   "source": []
  }
 ],
 "metadata": {
  "kernelspec": {
   "display_name": "Python 3",
   "language": "python",
   "name": "python3"
  },
  "language_info": {
   "codemirror_mode": {
    "name": "ipython",
    "version": 3
   },
   "file_extension": ".py",
   "mimetype": "text/x-python",
   "name": "python",
   "nbconvert_exporter": "python",
   "pygments_lexer": "ipython3",
   "version": "3.10.10 (main, Feb 20 2023, 20:17:57) [Clang 14.0.0 (clang-1400.0.29.202)]"
  },
  "vscode": {
   "interpreter": {
    "hash": "16a64652be5a1c88b62588fad4819a392966dffd16021d7ee3cc203dd1df92df"
   }
  }
 },
 "nbformat": 4,
 "nbformat_minor": 2
}
